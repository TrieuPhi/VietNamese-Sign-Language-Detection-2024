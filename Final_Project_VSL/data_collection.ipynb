{
 "cells": [
  {
   "cell_type": "code",
   "execution_count": 3,
   "id": "initial_id",
   "metadata": {
    "collapsed": true,
    "ExecuteTime": {
     "end_time": "2024-04-01T05:12:19.185619Z",
     "start_time": "2024-04-01T05:12:19.115479Z"
    }
   },
   "outputs": [
    {
     "ename": "ModuleNotFoundError",
     "evalue": "No module named 'cv2'",
     "output_type": "error",
     "traceback": [
      "\u001B[1;31m---------------------------------------------------------------------------\u001B[0m",
      "\u001B[1;31mModuleNotFoundError\u001B[0m                       Traceback (most recent call last)",
      "Cell \u001B[1;32mIn[3], line 1\u001B[0m\n\u001B[1;32m----> 1\u001B[0m \u001B[38;5;28;01mimport\u001B[39;00m \u001B[38;5;21;01mcv2\u001B[39;00m\n\u001B[0;32m      2\u001B[0m \u001B[38;5;28;01mfrom\u001B[39;00m \u001B[38;5;21;01mcvzone\u001B[39;00m\u001B[38;5;21;01m.\u001B[39;00m\u001B[38;5;21;01mHandTrackingModule\u001B[39;00m \u001B[38;5;28;01mimport\u001B[39;00m HandDetector\n\u001B[0;32m      3\u001B[0m \u001B[38;5;28;01mimport\u001B[39;00m \u001B[38;5;21;01mnumpy\u001B[39;00m \u001B[38;5;28;01mas\u001B[39;00m \u001B[38;5;21;01mnp\u001B[39;00m\n",
      "\u001B[1;31mModuleNotFoundError\u001B[0m: No module named 'cv2'"
     ]
    }
   ],
   "source": [
    "import cv2\n",
    "from cvzone.HandTrackingModule import HandDetector\n",
    "import numpy as np\n",
    "\n",
    "import os as oss\n",
    "import traceback"
   ]
  },
  {
   "cell_type": "code",
   "outputs": [],
   "source": [
    "capture = cv2.VideoCapture(0)\n",
    "hd = HandDetector(maxHands=1)\n",
    "hd2 = HandDetector(maxHands=1)\n",
    "\n",
    "# count = len(oss.listdir(\"D:\\\\ASL\\\\Sign-Language-To-Text-and-Speech-Conversion\\\\AtoZ_3.1\\\\A\\\\\"))\n",
    "count = len(oss.listdir(\"AtoZ_3.1/A\"))\n",
    "\n",
    "\n",
    "c_dir = 'A'\n",
    "\n",
    "offset = 15\n",
    "step = 1\n",
    "flag=False\n",
    "suv=0\n",
    "\n",
    "white=np.ones((400,400),np.uint8)*255\n",
    "cv2.imwrite(\"./white.jpg\",white)"
   ],
   "metadata": {
    "collapsed": false
   },
   "id": "1defd4d50725176c"
  }
 ],
 "metadata": {
  "kernelspec": {
   "display_name": "Python 3",
   "language": "python",
   "name": "python3"
  },
  "language_info": {
   "codemirror_mode": {
    "name": "ipython",
    "version": 2
   },
   "file_extension": ".py",
   "mimetype": "text/x-python",
   "name": "python",
   "nbconvert_exporter": "python",
   "pygments_lexer": "ipython2",
   "version": "2.7.6"
  }
 },
 "nbformat": 4,
 "nbformat_minor": 5
}
